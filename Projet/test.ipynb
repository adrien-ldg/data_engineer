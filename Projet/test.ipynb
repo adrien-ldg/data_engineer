{
 "cells": [
  {
   "cell_type": "code",
   "execution_count": 2,
   "id": "c1bec140-fbf2-4f65-acdd-542a6fd4e07a",
   "metadata": {
    "tags": []
   },
   "outputs": [],
   "source": [
    "import requests\n",
    "from bs4 import BeautifulSoup"
   ]
  },
  {
   "cell_type": "code",
   "execution_count": 3,
   "id": "22516fff-325a-4bcc-b233-d2d8d324f383",
   "metadata": {
    "tags": []
   },
   "outputs": [
    {
     "data": {
      "text/plain": [
       "200"
      ]
     },
     "execution_count": 3,
     "metadata": {},
     "output_type": "execute_result"
    }
   ],
   "source": [
    "url = \"https://www.basketusa.com/equipe/boston/\"\n",
    "response = requests.get(url)\n",
    "response.status_code"
   ]
  },
  {
   "cell_type": "code",
   "execution_count": 4,
   "id": "4d1d1330-9199-4326-921b-0d91dea8c7e4",
   "metadata": {},
   "outputs": [
    {
     "data": {
      "text/plain": [
       "'<!DOCTYPE html>\\n<html xmlns=\"https://www.w3.org/1999/xhtml\" lang=\"fr\">\\n<head>\\n<meta http-equiv=\"Content-Type\" content=\"text/html; charset=UTF-8\" />\\n<meta name=\"viewport\" content=\"width=device-width, initial-scale=1\" />\\n<meta name=\"robots\" content=\"follow,index,max-snippet:-1, max-image-preview:large, max-video-preview:-1\" />\\n<link rel=\"shortcut icon\" href=\"https://www.basketusa.com/favicon.png\" type=\"image/x-icon\" />\\n<link rel=\"apple-touch-icon\" href=\"https://www.basketusa.com/apple-touch-icon.png\" />\\n    <link rel=\"preconnect\" href=\"https://fonts.googleapis.com\">\\n<link rel=\"preconnect\" href=\"https://fonts.gstatic.com\" crossorigin>\\n<link href=\"https://fonts.googleapis.com/css2?family=Roboto:wght@300;400;700&display=swap\" rel=\"stylesheet\"> \\n<title>NBA → Boston Celtics → NBA Actus, rumeurs, effectif et stats</title>\\n<meta name=\"description\" content=\"Toutes les actualités NBA sur les Boston Celtics, l&#039;effectif complet et les statistiques. Retrouvez les dernières rumeurs, les résultat'"
      ]
     },
     "execution_count": 4,
     "metadata": {},
     "output_type": "execute_result"
    }
   ],
   "source": [
    "response.text[0:1000]"
   ]
  },
  {
   "cell_type": "code",
   "execution_count": 5,
   "id": "5921129f-872a-488b-8b4b-25a5c77b7257",
   "metadata": {
    "tags": []
   },
   "outputs": [
    {
     "data": {
      "text/plain": [
       "{'Date': 'Thu, 21 Dec 2023 09:58:33 GMT', 'Content-Type': 'text/html; charset=UTF-8', 'Transfer-Encoding': 'chunked', 'Connection': 'keep-alive', 'Keep-Alive': 'timeout=5', 'X-Content-Type-Options': 'nosniff', 'X-XSS-Protection': '1; mode=block', 'Link': '<https://www.basketusa.com/wp-json/>; rel=\"https://api.w.org/\"', 'X-FRAME-OPTIONS': 'DENY', 'Strict-Transport-Security': 'max-age=31536000; includeSubDomains; preload', 'Vary': 'Accept-Encoding', 'Referrer-Policy': 'no-referrer-when-downgrade', 'X-Nginx-Cache': 'HIT'}"
      ]
     },
     "execution_count": 5,
     "metadata": {},
     "output_type": "execute_result"
    }
   ],
   "source": [
    "response.headers"
   ]
  },
  {
   "cell_type": "code",
   "execution_count": 7,
   "id": "49b81dfb-9670-40f6-975f-9ab8d048e2c4",
   "metadata": {
    "tags": []
   },
   "outputs": [],
   "source": [
    "soup = BeautifulSoup(response.text)"
   ]
  },
  {
   "cell_type": "code",
   "execution_count": 8,
   "id": "825f25b0-ceaf-4669-b55a-35bb73158bd1",
   "metadata": {
    "tags": []
   },
   "outputs": [
    {
     "data": {
      "text/plain": [
       "[<td class=\"eq line_win\"><i class=\"logo-nba-small logo-cle\"></i>CLE</td>,\n",
       " <td class=\"score line_win\">124</td>,\n",
       " <td class=\"eq line_end\"><i class=\"logo-nba-small logo-uth\"></i>UTH</td>,\n",
       " <td class=\"score line_end\">116</td>,\n",
       " <td class=\"eq line_win\"><i class=\"logo-nba-small logo-ind\"></i>IND</td>,\n",
       " <td class=\"score line_win\">144</td>,\n",
       " <td class=\"eq line_end\"><i class=\"logo-nba-small logo-cha\"></i>CHA</td>,\n",
       " <td class=\"score line_end\">113</td>,\n",
       " <td class=\"eq\"><i class=\"logo-nba-small logo-orl\"></i>ORL</td>,\n",
       " <td class=\"score\">106</td>]"
      ]
     },
     "execution_count": 8,
     "metadata": {},
     "output_type": "execute_result"
    }
   ],
   "source": [
    "soup.find_all(\"td\")[0:10]"
   ]
  },
  {
   "cell_type": "code",
   "execution_count": 17,
   "id": "65a6508d-49e9-4fec-a07d-f7c25e2522bd",
   "metadata": {
    "tags": []
   },
   "outputs": [
    {
     "data": {
      "text/plain": [
       "'\\n\\n\\n\\n\\n\\n\\n\\n\\n\\nNBA → Atlanta Hawks → NBA Actus, rumeurs, effectif et stats\\n\\n\\n\\n\\n\\n\\n\\n\\n\\n\\n\\n\\n\\n\\n\\n\\n\\n\\n\\n\\n\\n\\n\\n\\n\\n\\n\\n\\n\\n\\n\\n\\n\\n\\n\\n\\n\\n\\n\\n\\n\\n\\n\\n\\n\\n\\n\\n\\n\\n\\n\\n\\n\\n\\n\\n\\n\\n\\n\\n\\n\\n\\n\\nActus\\n\\n\\nNews\\n\\nToute l\\'actu\\nBlog → In The Paint\\nCoupe du monde\\nDraft\\nInterviews\\nNCAA\\nG-League\\nJO 2024\\nRésumé\\nRumeurs\\nTrade\\nTop 10\\n\\n\\nMagazine\\n\\nCoaching\\nFinances\\nHistoire\\nPortraits\\nPratique\\nPreviews\\n\\n\\nMédias\\n\\nCinéma\\nInternet\\nLecture\\nPhotos\\nPublicité\\nTélévision\\n\\nLife Style\\n\\nChaussures\\nJeux\\nMode\\nMusique\\n\\n\\n\\n\\nJoueurs\\n\\n\\n\\n(414)Liste des joueurs\\nJoueurs depuis 50 ans\\nMeilleurs salaires NBA\\nBudgets équipes NBA\\n\\nLes MVP NBA\\n\\nBill Russell \\nWilt Chamberlain \\nKareem Abdul-Jabbar\\nJulius Erving\\nMoses Malone\\nLarry Bird\\nMagic Johnson\\nCharles Barkley\\nHakeem Olajuwon\\nDavid Robinson\\nMichael Jordan \\nKarl Malone\\nShaquille O\"Neal\\nAllen Iverson\\nTim Duncan\\nKevin Garnett\\nSteve Nash\\nDirk Nowitzki\\nKobe Bryant\\nLeBron James\\n\\n\\nDraft\\n\\n20232022202120202019201820172016201520142013201220112010 \\n\\nPalmarès NBA\\n\\nMost Valuable Player\\nRookie of The Year\\nCoach of the Year\\nSixth Man Award\\nMost Impr'"
      ]
     },
     "execution_count": 17,
     "metadata": {},
     "output_type": "execute_result"
    }
   ],
   "source": [
    "soup.text[0:1000]"
   ]
  },
  {
   "cell_type": "code",
   "execution_count": 18,
   "id": "89e06a50-04c5-4770-9414-dce63c076954",
   "metadata": {
    "tags": []
   },
   "outputs": [
    {
     "name": "stdout",
     "output_type": "stream",
     "text": [
      "www.basketusa.com\n",
      "------------------------------------------------------------------------------------------------------------------------------------------------------------------------------------\n",
      "<!DOCTYPE html>\n",
      "<html xmlns=\"https://www.w3.org/1999/xhtml\" lang=\"fr\">\n",
      "<head>\n",
      "<meta http-equiv=\"Content-Type\" content=\"text/html; charset=UTF-8\" />\n",
      "<meta name=\"viewport\" content=\"width=device-width, initial-scale=1\" />\n",
      "<meta name=\"robots\" content=\"follow,index,max-snippet:-1, max-image-preview:large, max-video-preview:-1\" />\n",
      "<link rel=\"shortcut icon\" href=\"https://www.basketusa.com/favicon.png\" type=\"image/x-icon\" />\n",
      "<link rel=\"apple-touch-icon\" href=\"https://www.basketusa.com/apple-touch-icon.png\" />\n",
      "    <link rel=\"preconnect\" href=\"https://fonts.googleapis.com\">\n",
      "<link rel=\"preconnect\" href=\"https://fonts.gstatic.com\" crossorigin>\n",
      "<link href=\"https://fonts.googleapis.com/css2?family=Roboto:wght@300;400;700&display=swap\" rel=\"stylesheet\"> \n",
      "<title>NBA → Atlanta Hawks → NBA Actus, rumeurs, effectif et stats</title>\n",
      "<meta name=\"description\" content=\"Toutes les actualités NBA sur les Atlanta Hawks, l&#039;effectif complet et les statistiques. Retrouvez les dernières rumeurs, les résultats \n",
      "------------------------------------------------------------------------------------------------------------------------------------------------------------------------------------\n",
      "<!DOCTYPE html> <html xmlns=\"https://www.w3.org/1999/xhtml\" lang=\"fr\"> <head> <meta http-equiv=\"Content-Type\" content=\"text/html; charset=UTF-8\" /> <meta name=\"viewport\" content=\"width=device-width, initial-scale=1\" /> <meta name=\"robots\" content=\"follow,index,max-snippet:-1, max-image-preview:large, max-video-preview:-1\" /> <link rel=\"shortcut icon\" href=\"https://www.basketusa.com/favicon.png\" type=\"image/x-icon\" /> <link rel=\"apple-touch-icon\" href=\"https://www.basketusa.com/apple-touch-icon.png\" /> <link rel=\"preconnect\" href=\"https://fonts.googleapis.com\"> <link rel=\"preconnect\" href=\"https://fonts.gstatic.com\" crossorigin> <link href=\"https://fonts.googleapis.com/css2?family=Roboto:wght@300;400;700&display=swap\" rel=\"stylesheet\"> <title>NBA → Atlanta Hawks → NBA Actus, rumeurs, effectif et stats</title> <meta name=\"description\" content=\"Toutes les actualités NBA sur les Atlanta Hawks, l&#039;effectif complet et les statistiques. Retrouvez les dernières rumeurs, les résultats des m\n",
      "------------------------------------------------------------------------------------------------------------------------------------------------------------------------------------\n",
      "NBA → Atlanta Hawks → NBA Actus, rumeurs, effectif et stats Actus News Toute l'actu Blog → In The Paint Coupe du monde Draft Interviews NCAA G-League JO 2024 Résumé Rumeurs Trade Top 10 Magazine Coaching Finances Histoire Portraits Pratique Previews Médias Cinéma Internet Lecture Photos Publicité Télévision Life Style Chaussures Jeux Mode Musique Joueurs (414) Liste des joueurs Joueurs depuis 50 ans Meilleurs salaires NBA Budgets équipes NBA Les MVP NBA Bill Russell Wilt Chamberlain Kareem Abdul-Jabbar Julius Erving Moses Malone Larry Bird Magic Johnson Charles Barkley Hakeem Olajuwon David Robinson Michael Jordan Karl Malone Shaquille O\"Neal Allen Iverson Tim Duncan Kevin Garnett Steve Nash Dirk Nowitzki Kobe Bryant LeBron James Draft 2023 2022 2021 2020 2019 2018 2017 2016 2015 2014 2013 2012 2011 2010 Palmarès NBA Most Valuable Player Rookie of The Year Coach of the Year Sixth Man Award Most Improved Player MVP Finals Sportsmanship Award Executive of The Year Equipes Liste des équip\n",
      "------------------------------------------------------------------------------------------------------------------------------------------------------------------------------------\n",
      "\n",
      "\n",
      "\n",
      "\n",
      "\n",
      "\n",
      "\n",
      "\n",
      "\n",
      "\n",
      "\n",
      "NBA → Atlanta Hawks → NBA Actus, rumeurs, effectif et stats\n",
      "\n",
      "\n",
      "\n",
      "\n",
      "\n",
      "\n",
      "\n",
      "\n",
      "\n",
      "\n",
      "\n",
      "\n",
      "\n",
      "\n",
      "\n",
      "\n",
      "\n",
      "\n",
      "\n",
      "\n",
      "\n",
      "\n",
      "\n",
      "\n",
      "\n",
      "\n",
      "\n",
      "\n",
      "\n",
      "\n",
      "------------------------------------------------------------------------------------------------------------------------------------------------------------------------------------\n",
      "titre: [<title>NBA → Atlanta Hawks → NBA Actus, rumeurs, effectif et stats</title>]\n",
      "------------------------------------------------------------------------------------------------------------------------------------------------------------------------------------\n",
      "H1: [<h1><div class=\"logo-nba-big logo-atl\"></div>Atlanta Hawks — NBA</h1>]\n",
      "------------------------------------------------------------------------------------------------------------------------------------------------------------------------------------\n",
      "image: [<img alt=\"Les Cavaliers ne tremblent pas face aux Hawks\" class=\"lazy\" data-src=\"https://www.basketusa.com/wp-content/uploads/2023/12/USATSI_22122430-250x160.jpg\" height=\"160\" width=\"320\"/>, <img alt=\"Enfin une performance défensive référence pour les Hawks\" class=\"lazy\" data-src=\"https://www.basketusa.com/wp-content/uploads/2023/12/USATSI_22114261-250x160.jpg\" height=\"160\" width=\"320\"/>, <img alt=\"Les Hawks prennent leur revanche sur les Raptors\" class=\"lazy\" data-src=\"https://www.basketusa.com/wp-content/uploads/2023/12/USATSI_22113162-250x160.jpg\" height=\"160\" width=\"320\"/>, <img alt=\"Les Raptors stoppent enfin l’hémorragie contre les Hawks\" class=\"lazy\" data-src=\"https://www.basketusa.com/wp-content/uploads/2023/12/USATSI_22100240-250x160.jpg\" height=\"160\" width=\"320\"/>, <img alt=\"Trae Young sanctionné pour son comportement envers les arbitres\" class=\"lazy\" data-src=\"https://www.basketusa.com/wp-content/uploads/2023/12/USATSI_220515741-250x160.jpg\" height=\"160\" width=\"320\"/>]\n",
      "------------------------------------------------------------------------------------------------------------------------------------------------------------------------------------\n",
      "link: [<a class=\"logo_busa\" href=\"https://www.basketusa.com\"></a>, <a href=\"#\" title=\"\">Actus</a>, <a href=\"https://www.basketusa.com/category/news/\" title=\"\">Toute l'actu</a>, <a href=\"https://www.basketusa.com/blogs/\" title=\"\">Blog → In The Paint</a>, <a href=\"https://www.basketusa.com/category/news/coupe-du-monde/\" title=\"\">Coupe du monde</a>]\n",
      "------------------------------------------------------------------------------------------------------------------------------------------------------------------------------------\n",
      "main text: [<p>Retrouvez sur cette page toutes les actualités sur l'équipe de NBA des <strong>Atlanta Hawks</strong>, l'effectif complet et les statistiques pour chaque joueur des <strong>Atlanta Hawks</strong>. Retrouvez les dernières rumeurs, les résultats des matchs... Si vous êtes fan des Atlanta Hawks, n'hésitez pas à ajouter cette page à vos favoris !</p>]\n"
     ]
    },
    {
     "ename": "UnicodeEncodeError",
     "evalue": "'charmap' codec can't encode character '\\u2192' in position 45: character maps to <undefined>",
     "output_type": "error",
     "traceback": [
      "\u001b[1;31m---------------------------------------------------------------------------\u001b[0m",
      "\u001b[1;31mUnicodeEncodeError\u001b[0m                        Traceback (most recent call last)",
      "Cell \u001b[1;32mIn[18], line 142\u001b[0m\n\u001b[0;32m    140\u001b[0m \u001b[38;5;28mprint\u001b[39m(\u001b[38;5;124mf\u001b[39m\u001b[38;5;124m\"\u001b[39m\u001b[38;5;124mmain text: \u001b[39m\u001b[38;5;132;01m{\u001b[39;00mhttp_requester\u001b[38;5;241m.\u001b[39mmain_txt[\u001b[38;5;241m0\u001b[39m:\u001b[38;5;241m10\u001b[39m]\u001b[38;5;132;01m}\u001b[39;00m\u001b[38;5;124m\"\u001b[39m)\n\u001b[0;32m    141\u001b[0m f \u001b[38;5;241m=\u001b[39m http_requester\u001b[38;5;241m.\u001b[39mparse_sitemap()\n\u001b[1;32m--> 142\u001b[0m \u001b[43mhttp_requester\u001b[49m\u001b[38;5;241;43m.\u001b[39;49m\u001b[43msave_to_json\u001b[49m\u001b[43m(\u001b[49m\u001b[43mf\u001b[49m\u001b[43m)\u001b[49m\n",
      "Cell \u001b[1;32mIn[18], line 113\u001b[0m, in \u001b[0;36mHTTPrequest.save_to_json\u001b[1;34m(self, data, filename)\u001b[0m\n\u001b[0;32m    111\u001b[0m \u001b[38;5;28;01mdef\u001b[39;00m \u001b[38;5;21msave_to_json\u001b[39m(\u001b[38;5;28mself\u001b[39m, data, filename\u001b[38;5;241m=\u001b[39m\u001b[38;5;124m'\u001b[39m\u001b[38;5;124moutput.json\u001b[39m\u001b[38;5;124m'\u001b[39m):\n\u001b[0;32m    112\u001b[0m     \u001b[38;5;28;01mwith\u001b[39;00m \u001b[38;5;28mopen\u001b[39m(filename, \u001b[38;5;124m'\u001b[39m\u001b[38;5;124mw\u001b[39m\u001b[38;5;124m'\u001b[39m) \u001b[38;5;28;01mas\u001b[39;00m json_file:\n\u001b[1;32m--> 113\u001b[0m         \u001b[38;5;28;01mreturn\u001b[39;00m \u001b[43mjson_file\u001b[49m\u001b[38;5;241;43m.\u001b[39;49m\u001b[43mwrite\u001b[49m\u001b[43m(\u001b[49m\u001b[38;5;28;43mstr\u001b[39;49m\u001b[43m(\u001b[49m\u001b[43mdata\u001b[49m\u001b[43m)\u001b[49m\u001b[43m)\u001b[49m\n",
      "File \u001b[1;32m~\\anaconda3\\Lib\\encodings\\cp1252.py:19\u001b[0m, in \u001b[0;36mIncrementalEncoder.encode\u001b[1;34m(self, input, final)\u001b[0m\n\u001b[0;32m     18\u001b[0m \u001b[38;5;28;01mdef\u001b[39;00m \u001b[38;5;21mencode\u001b[39m(\u001b[38;5;28mself\u001b[39m, \u001b[38;5;28minput\u001b[39m, final\u001b[38;5;241m=\u001b[39m\u001b[38;5;28;01mFalse\u001b[39;00m):\n\u001b[1;32m---> 19\u001b[0m     \u001b[38;5;28;01mreturn\u001b[39;00m \u001b[43mcodecs\u001b[49m\u001b[38;5;241;43m.\u001b[39;49m\u001b[43mcharmap_encode\u001b[49m\u001b[43m(\u001b[49m\u001b[38;5;28;43minput\u001b[39;49m\u001b[43m,\u001b[49m\u001b[38;5;28;43mself\u001b[39;49m\u001b[38;5;241;43m.\u001b[39;49m\u001b[43merrors\u001b[49m\u001b[43m,\u001b[49m\u001b[43mencoding_table\u001b[49m\u001b[43m)\u001b[49m[\u001b[38;5;241m0\u001b[39m]\n",
      "\u001b[1;31mUnicodeEncodeError\u001b[0m: 'charmap' codec can't encode character '\\u2192' in position 45: character maps to <undefined>"
     ]
    }
   ],
   "source": [
    "import requests\n",
    "from bs4 import BeautifulSoup\n",
    "import re\n",
    "from urllib.parse import urlparse\n",
    "import random\n",
    "import json\n",
    "\n",
    "class HTTPrequest:\n",
    "    \n",
    "    def __init__(self, timeOut=10, retry=3):\n",
    "        self.UserAgents = ['Mozilla/5.0 (Windows NT 6.1; Win64; x64; rv:47.0) Gecko/20100101 Firefox/47.0',\n",
    "                           'Mozilla/5.0 (Macintosh; Intel Mac OS X 10_10_1) AppleWebKit/537.36 (KHTML, like Gecko) Chrome/39.0.2171.95 Safari/537.36']\n",
    "        self.UserAgent = ''\n",
    "        self.timeOut = timeOut\n",
    "        self.retry = retry\n",
    "        self.response = None\n",
    "        self.html_txt = \"\"\n",
    "        self.txt = \"\"\n",
    "        self.url = \"\"\n",
    "        self.soup = None\n",
    "        self.title = \"\"\n",
    "        self.H1 = []\n",
    "        self.image = []\n",
    "        self.link = []\n",
    "        self.main_txt = \"\"\n",
    "        \n",
    "    def make_request(self, url):\n",
    "        try:\n",
    "            self.response = requests.get(\n",
    "                url,\n",
    "                headers={'User-Agent': random.choice(self.UserAgents)},\n",
    "                timeout=self.timeOut,\n",
    "            )\n",
    "            self.response.raise_for_status()\n",
    "            self.html_txt = self.response.text\n",
    "        except requests.exceptions.RequestException as e:\n",
    "            if self.retry > 0:\n",
    "                print(f\"Request failed. Retrying... ({self.retry} retries remaining)\")\n",
    "                self.retry -= 1\n",
    "                return self.make_request(url)\n",
    "            else:\n",
    "                print(\"Maximum retries reached. Request failed.\")\n",
    "                raise e\n",
    "    \n",
    "    def remove_extra_spaces(self):\n",
    "        return ' '.join(self.html_txt.split())\n",
    "    \n",
    "    def clean_html(self):\n",
    "        self.soup = BeautifulSoup(self.html_txt, 'html.parser')\n",
    "        text_content = self.soup.get_text(separator=' ')\n",
    "        self.text = re.sub(r'\\s+', ' ', text_content).strip()\n",
    "        return self.text\n",
    "    \n",
    "    def get_domain_from_url(self, url):\n",
    "        parsed_url = urlparse(url)\n",
    "        self.url = parsed_url.netloc\n",
    "        return self.url\n",
    "    \n",
    "    def get_soup(self):\n",
    "        return self.soup\n",
    "    \n",
    "    def extract_title(self):\n",
    "        title_tag = self.soup.find_all('title')\n",
    "        if title_tag:\n",
    "            self.title = title_tag\n",
    "        else:\n",
    "            self.title = \"No title found\"\n",
    "            \n",
    "    def extract_h1(self):\n",
    "        title_tag = self.soup.find_all('h1')\n",
    "        if title_tag:\n",
    "            self.H1 = title_tag\n",
    "        else:\n",
    "            self.H1 = \"No H1 found\"\n",
    "            \n",
    "    def extract_img(self):\n",
    "        title_tag = self.soup.find_all('img')\n",
    "        if title_tag:\n",
    "            self.image = title_tag\n",
    "        else:\n",
    "            self.image = \"No image found\"\n",
    "            \n",
    "    def extract_link(self):\n",
    "        title_tag = self.soup.find_all('a')\n",
    "        if title_tag:\n",
    "            self.link = title_tag\n",
    "        else:\n",
    "            self.link = \"No link found\"\n",
    "            \n",
    "    def extract_main(self):\n",
    "        title_tag = self.soup.find_all('p')\n",
    "        if title_tag:\n",
    "            self.main_txt = title_tag\n",
    "        else:\n",
    "            self.main_txt = \"No main text found\"\n",
    "            \n",
    "    def parse_sitemap(self):\n",
    "        sitemap_data = []\n",
    "        a = {}\n",
    "        if self.response:\n",
    "            a[f\"{self.url}\"] = {\n",
    "            \"title\": self.title,\n",
    "            \"h1\": self.H1,\n",
    "            \"image_links\": self.image,\n",
    "            \"web_links\": self.link,\n",
    "            \"main_text\": self.main_txt\n",
    "            }\n",
    "            sitemap_data.append( a)\n",
    "            return sitemap_data\n",
    "            \n",
    "    def save_to_json(self, data, filename='output.json'):\n",
    "        with open(filename, 'w') as json_file:\n",
    "            return json_file.write(str(data))\n",
    "\n",
    "http_requester = HTTPrequest()\n",
    "http_requester.make_request(url)\n",
    "print(http_requester.get_domain_from_url(url))\n",
    "print(\"-\"*180)\n",
    "print(http_requester.response.text[:1000])\n",
    "print(\"-\"*180)\n",
    "print(http_requester.remove_extra_spaces()[:1000])\n",
    "print(\"-\"*180)\n",
    "print(http_requester.clean_html()[:1000])\n",
    "print(\"-\"*180)\n",
    "print(http_requester.get_soup().text[:100])\n",
    "print(\"-\"*180)\n",
    "http_requester.extract_title()\n",
    "print(f\"titre: {http_requester.title}\")\n",
    "print(\"-\"*180)\n",
    "http_requester.extract_h1()\n",
    "print(f\"H1: {http_requester.H1}\")\n",
    "print(\"-\"*180)\n",
    "http_requester.extract_img()\n",
    "print(f\"image: {http_requester.image[0:5]}\")\n",
    "print(\"-\"*180)\n",
    "http_requester.extract_link()\n",
    "print(f\"link: {http_requester.link[0:5]}\")\n",
    "print(\"-\"*180)\n",
    "http_requester.extract_main()\n",
    "print(f\"main text: {http_requester.main_txt[0:10]}\")\n",
    "f = http_requester.parse_sitemap()\n",
    "http_requester.save_to_json(f)"
   ]
  },
  {
   "cell_type": "code",
   "execution_count": null,
   "id": "758f08fe-4c89-4ab2-af94-71044b37f27e",
   "metadata": {},
   "outputs": [],
   "source": []
  }
 ],
 "metadata": {
  "kernelspec": {
   "display_name": "Python 3 (ipykernel)",
   "language": "python",
   "name": "python3"
  },
  "language_info": {
   "codemirror_mode": {
    "name": "ipython",
    "version": 3
   },
   "file_extension": ".py",
   "mimetype": "text/x-python",
   "name": "python",
   "nbconvert_exporter": "python",
   "pygments_lexer": "ipython3",
   "version": "3.11.5"
  }
 },
 "nbformat": 4,
 "nbformat_minor": 5
}
